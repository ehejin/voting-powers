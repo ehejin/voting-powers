{
 "cells": [
  {
   "cell_type": "code",
   "execution_count": 16,
   "metadata": {
    "collapsed": false
   },
   "outputs": [
    {
     "name": "stdout",
     "output_type": "stream",
     "text": [
      "Original Banzhaf Indices Counts:  {1: 0, 2: 4, 3: 4, 6: 4, 9: 4, 18: 28}\n",
      "Total Sum of Counts:  44\n",
      "[0, 1/11, 1/11, 1/11, 1/11, 7/11]\n",
      "SS numerator:  {1: 0, 2: 72, 3: 72, 6: 72, 9: 72, 18: 432}\n",
      "SS Denominator (n!):  720\n",
      "[0, 1/10, 1/10, 1/10, 1/10, 3/5]\n"
     ]
    }
   ],
   "source": [
    "# Test for BI\n",
    "print(computeBanzhafIndicesDivisors(18))\n",
    "# Test for SSI\n",
    "print(computeShapleyShubikIndicesDivisors(18))"
   ]
  },
  {
   "cell_type": "code",
   "execution_count": 14,
   "metadata": {
    "collapsed": false
   },
   "outputs": [
   ],
   "source": [
    "def sumAll(list):\n",
    "    sum = 0\n",
    "    for num in list:\n",
    "        sum += num\n",
    "    return sum\n",
    "\n",
    "def contains(list, key):\n",
    "    for element in list:\n",
    "        if element == key:\n",
    "            return true\n",
    "    return false\n",
    "\n",
    "def isCriticalPlayer(player, coalition, coalitionWeights, weights, minVotes):\n",
    "    if contains(coalition, player) and sumAll(coalitionWeights)-weights[player] < minVotes:\n",
    "        return true\n",
    "    return false\n",
    "\n",
    "def computeBanzhafIndicesDivisors(n):\n",
    "    divisors = []\n",
    "    for i in range(1, ceil(sqrt(n))):\n",
    "        if n % i == 0:\n",
    "            divisors.append(i)\n",
    "            if i * i < n:\n",
    "                divisors.append(n // i)\n",
    "    div = dict([(i, i) for i in sorted(divisors)])\n",
    "    return computeBanzhafIndicesWeights(div)\n",
    "\n",
    "def computeBanzhafIndicesWeights(weights):\n",
    "    s = sum([weights[key] for key in weights])\n",
    "    minVotes = ceil((s + 1) / 2)\n",
    "    counts = dict([(key, 0) for key in weights])\n",
    "    return computeBanzhafIndices(minVotes, weights, counts)\n",
    "\n",
    "def computeBanzhafIndices(minVotes, weights, counts):\n",
    "    # Compute all winning coalitions\n",
    "    winningCoalitions = []\n",
    "    for subset in Subsets(weights.keys(), submultiset=True):\n",
    "        listOfWeights = []\n",
    "        for player in subset:\n",
    "            listOfWeights.append(weights[player])\n",
    "        if len(listOfWeights)== 0 or sumAll(listOfWeights) < minVotes:\n",
    "            continue\n",
    "        winningCoalitions.append(subset)\n",
    "\n",
    "    # Count # times each player is a critical player\n",
    "    for player in weights.keys():\n",
    "        count = 0\n",
    "        for coalition in winningCoalitions:\n",
    "            coalitionWeights = []›››\n",
    "            for player2 in coalition:\n",
    "                coalitionWeights.append(weights[player2])\n",
    "            if isCriticalPlayer(player, coalition, coalitionWeights, weights, minVotes):\n",
    "                count += 1\n",
    "        counts[player] = count\n",
    "    print(\"Original Banzhaf Indices Counts: \", counts)\n",
    "\n",
    "    # Normalize by the total # times a player is a critical player\n",
    "    print(\"Total Sum of Counts: \", sumAll(counts.values()))\n",
    "    totalSum = sumAll(counts.values())\n",
    "    normalizedCounts = [counts[key] / totalSum for key in counts]\n",
    "\n",
    "    return normalizedCounts"
   ]
  },
  {
   "cell_type": "code",
   "execution_count": 13,
   "metadata": {
    "collapsed": false
   },
   "outputs": [
   ],
   "source": [
    "import itertools\n",
    "\n",
    "def sumAll(list):\n",
    "    sum = 0\n",
    "    for num in list:\n",
    "        sum += num\n",
    "    return sum\n",
    "\n",
    "def contains(list, key):\n",
    "    for element in list:\n",
    "        if element == key:\n",
    "            return true\n",
    "    return false\n",
    "\n",
    "def computeShapleyShubikIndicesDivisors(n):\n",
    "    divisors = []\n",
    "    for i in range(1, ceil(sqrt(n))):\n",
    "        if n % i == 0:\n",
    "            divisors.append(i)\n",
    "            if i * i < n:\n",
    "                divisors.append(n // i)\n",
    "    div = dict([(i, i) for i in sorted(divisors)])\n",
    "    return computeShapleyShubikIndicesWeights(div)\n",
    "\n",
    "def computeShapleyShubikIndicesWeights(weights):\n",
    "    s = sum([weights[key] for key in weights])\n",
    "    minVotes = ceil((s + 1) / 2)\n",
    "    counts = dict([(key, 0) for key in weights])\n",
    "    return computeShapleyShubikIndices(minVotes, weights, counts)\n",
    "\n",
    "def computeShapleyShubikIndices(minVotes, weights, counts):\n",
    "    # Count # times each player is a pivotal player\n",
    "    sum=0\n",
    "    for tuple in itertools.permutations(weights.keys(),len(weights)):\n",
    "        sum = 0;\n",
    "        for player in tuple:\n",
    "            sum += weights[player]\n",
    "            if (sum >= minVotes):\n",
    "                counts[player] = counts.get(player)+1\n",
    "                break\n",
    "\n",
    "    print(\"SS numerator: \", counts)\n",
    "\n",
    "    # Normalize by the total # times a player is a pivotal player - len(weights)!\n",
    "    print(\"SS Denominator (n!): \", factorial(len(weights)))\n",
    "    totalSum = factorial(len(weights))\n",
    "    normalizedCounts = []\n",
    "    for value in counts.values():\n",
    "        normalizedCounts.append(value/totalSum)\n",
    "\n",
    "    return normalizedCounts"
   ]
  },
  {
   "cell_type": "code",
   "execution_count": 0,
   "metadata": {
    "cocalc": {
     "outputs": {
      "0": {
       "name": "input",
       "opts": {
        "password": false,
        "prompt": "Enter n: "
       },
       "output_type": "stream",
       "value": "12"
      }
     }
    },
    "collapsed": false
   },
   "outputs": [
   ],
   "source": [
   ]
  },
  {
   "cell_type": "code",
   "execution_count": 0,
   "metadata": {
    "collapsed": false,
    "scrolled": true
   },
   "outputs": [
   ],
   "source": [
   ]
  },
  {
   "cell_type": "code",
   "execution_count": 0,
   "metadata": {
    "collapsed": false
   },
   "outputs": [
   ],
   "source": [
   ]
  },
  {
   "cell_type": "code",
   "execution_count": 0,
   "metadata": {
    "collapsed": false
   },
   "outputs": [
   ],
   "source": [
   ]
  },
  {
   "cell_type": "code",
   "execution_count": 0,
   "metadata": {
    "collapsed": false
   },
   "outputs": [
   ],
   "source": [
   ]
  },
  {
   "cell_type": "code",
   "execution_count": 0,
   "metadata": {
    "collapsed": false
   },
   "outputs": [
   ],
   "source": [
   ]
  },
  {
   "cell_type": "code",
   "execution_count": 0,
   "metadata": {
    "collapsed": false
   },
   "outputs": [
   ],
   "source": [
   ]
  }
 ],
 "metadata": {
  "kernelspec": {
   "display_name": "SageMath 9.1",
   "language": "sagemath",
   "metadata": {
    "cocalc": {
     "description": "Open-source mathematical software system",
     "priority": 10,
     "url": "https://www.sagemath.org/"
    }
   },
   "name": "sage-9.1",
   "resource_dir": "/ext/jupyter/kernels/sage-9.1"
  },
  "language_info": {
   "codemirror_mode": {
    "name": "ipython",
    "version": 3
   },
   "file_extension": ".py",
   "mimetype": "text/x-python",
   "name": "python",
   "nbconvert_exporter": "python",
   "pygments_lexer": "ipython3",
   "version": "3.7.3"
  }
 },
 "nbformat": 4,
 "nbformat_minor": 4
}